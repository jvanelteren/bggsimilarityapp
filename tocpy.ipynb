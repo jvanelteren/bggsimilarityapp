{
 "cells": [
  {
   "cell_type": "code",
   "execution_count": 2,
   "metadata": {},
   "outputs": [],
   "source": [
    "# temp to move tensors to cpu\n",
    "\n",
    "from torch.nn import Module\n",
    "from fastai.collab import *\n",
    "from fastai.tabular.all import *\n",
    "class DotProductBias(Module):\n",
    "    def __init__(self, n_users, n_games, n_factors, y_range=(0.5,10.5)):\n",
    "        super().__init__()\n",
    "        self.user_factors = create_params([n_users, n_factors])\n",
    "        self.user_bias = create_params([n_users])\n",
    "        self.game_factors = create_params([n_games, n_factors])\n",
    "        self.game_bias = create_params([n_games])\n",
    "        self.y_range = y_range\n",
    "        \n",
    "    def forward(self, x):\n",
    "        users = self.user_factors[x[:,0]]\n",
    "        games = self.game_factors[x[:,1]]\n",
    "        res = (users*games).sum(dim=1)\n",
    "        res += self.user_bias[x[:,0]] + self.game_bias[x[:,1]]\n",
    "        return sigmoid_range(res, *self.y_range)"
   ]
  },
  {
   "cell_type": "code",
   "execution_count": 25,
   "metadata": {},
   "outputs": [],
   "source": [
    "\n",
    "\n",
    "modelstandard = load_pickle('./input/size30model.pickle')\n",
    "modeltransform = load_pickle('./input/size30modeltransform.pickle')\n",
    "users = load_pickle('./input/userids.pickle')\n",
    "games = load_pickle('./input/gameids.pickle')\n",
    "\n"
   ]
  },
  {
   "cell_type": "code",
   "execution_count": 26,
   "metadata": {},
   "outputs": [],
   "source": [
    "for obj in [modelstandard, modeltransform]:\n",
    "    obj = obj.cpu()\n",
    "    "
   ]
  },
  {
   "cell_type": "code",
   "execution_count": 28,
   "metadata": {},
   "outputs": [],
   "source": [
    "modelstandard = save_pickle('./input/size30model.pickle', modelstandard)\n",
    "modeltransform = save_pickle('./input/size30modeltransform.pickle', modeltransform)\n",
    "# users = save_pickle('./input/userids.pickle')\n",
    "# games = save_pickle('./input/gameids.pickle')"
   ]
  }
 ],
 "metadata": {
  "interpreter": {
   "hash": "479dee719fccca1c00bb8f42a2f0145c0754df562f483712896efee03e0295ce"
  },
  "kernelspec": {
   "display_name": "Python 3.9.9 64-bit",
   "language": "python",
   "name": "python3"
  },
  "language_info": {
   "codemirror_mode": {
    "name": "ipython",
    "version": 3
   },
   "file_extension": ".py",
   "mimetype": "text/x-python",
   "name": "python",
   "nbconvert_exporter": "python",
   "pygments_lexer": "ipython3",
   "version": "3.9.9"
  },
  "orig_nbformat": 4
 },
 "nbformat": 4,
 "nbformat_minor": 2
}
